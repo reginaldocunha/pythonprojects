{
 "cells": [
  {
   "cell_type": "code",
   "execution_count": 1,
   "id": "d439c3a2-7773-4770-94c6-7bc4936f50c8",
   "metadata": {},
   "outputs": [],
   "source": [
    "import pandas as pd"
   ]
  },
  {
   "cell_type": "code",
   "execution_count": 2,
   "id": "17175a7f-d6b4-4356-b089-d6f890e6b79d",
   "metadata": {},
   "outputs": [],
   "source": [
    "dfP1 = pd.read_csv(\"/Users/reginaldocunha/Documents/Portfólio de Projetos Data Science/Projeto Produção Biodiesel/biodiesel-producao.csv\")"
   ]
  },
  {
   "cell_type": "code",
   "execution_count": 3,
   "id": "2ad66fae-26f2-4e51-8900-110e31194821",
   "metadata": {},
   "outputs": [
    {
     "data": {
      "text/html": [
       "<div>\n",
       "<style scoped>\n",
       "    .dataframe tbody tr th:only-of-type {\n",
       "        vertical-align: middle;\n",
       "    }\n",
       "\n",
       "    .dataframe tbody tr th {\n",
       "        vertical-align: top;\n",
       "    }\n",
       "\n",
       "    .dataframe thead th {\n",
       "        text-align: right;\n",
       "    }\n",
       "</style>\n",
       "<table border=\"1\" class=\"dataframe\">\n",
       "  <thead>\n",
       "    <tr style=\"text-align: right;\">\n",
       "      <th></th>\n",
       "      <th>Mês/Ano</th>\n",
       "      <th>Região</th>\n",
       "      <th>Produção de Biodiesel</th>\n",
       "    </tr>\n",
       "  </thead>\n",
       "  <tbody>\n",
       "    <tr>\n",
       "      <th>0</th>\n",
       "      <td>06/2023</td>\n",
       "      <td>NORDESTE</td>\n",
       "      <td>49975</td>\n",
       "    </tr>\n",
       "    <tr>\n",
       "      <th>1</th>\n",
       "      <td>06/2023</td>\n",
       "      <td>NORTE / CENTRO OESTE</td>\n",
       "      <td>300341</td>\n",
       "    </tr>\n",
       "    <tr>\n",
       "      <th>2</th>\n",
       "      <td>06/2023</td>\n",
       "      <td>SUDESTE</td>\n",
       "      <td>29533</td>\n",
       "    </tr>\n",
       "    <tr>\n",
       "      <th>3</th>\n",
       "      <td>06/2023</td>\n",
       "      <td>SUL</td>\n",
       "      <td>274958</td>\n",
       "    </tr>\n",
       "    <tr>\n",
       "      <th>4</th>\n",
       "      <td>05/2023</td>\n",
       "      <td>NORDESTE</td>\n",
       "      <td>51346</td>\n",
       "    </tr>\n",
       "    <tr>\n",
       "      <th>...</th>\n",
       "      <td>...</td>\n",
       "      <td>...</td>\n",
       "      <td>...</td>\n",
       "    </tr>\n",
       "    <tr>\n",
       "      <th>307</th>\n",
       "      <td>02/2017</td>\n",
       "      <td>SUL</td>\n",
       "      <td>102263</td>\n",
       "    </tr>\n",
       "    <tr>\n",
       "      <th>308</th>\n",
       "      <td>01/2017</td>\n",
       "      <td>NORDESTE</td>\n",
       "      <td>20107</td>\n",
       "    </tr>\n",
       "    <tr>\n",
       "      <th>309</th>\n",
       "      <td>01/2017</td>\n",
       "      <td>NORTE / CENTRO OESTE</td>\n",
       "      <td>103414</td>\n",
       "    </tr>\n",
       "    <tr>\n",
       "      <th>310</th>\n",
       "      <td>01/2017</td>\n",
       "      <td>SUDESTE</td>\n",
       "      <td>24076</td>\n",
       "    </tr>\n",
       "    <tr>\n",
       "      <th>311</th>\n",
       "      <td>01/2017</td>\n",
       "      <td>SUL</td>\n",
       "      <td>97279</td>\n",
       "    </tr>\n",
       "  </tbody>\n",
       "</table>\n",
       "<p>312 rows × 3 columns</p>\n",
       "</div>"
      ],
      "text/plain": [
       "     Mês/Ano                Região  Produção de Biodiesel\n",
       "0    06/2023              NORDESTE                  49975\n",
       "1    06/2023  NORTE / CENTRO OESTE                 300341\n",
       "2    06/2023               SUDESTE                  29533\n",
       "3    06/2023                   SUL                 274958\n",
       "4    05/2023              NORDESTE                  51346\n",
       "..       ...                   ...                    ...\n",
       "307  02/2017                   SUL                 102263\n",
       "308  01/2017              NORDESTE                  20107\n",
       "309  01/2017  NORTE / CENTRO OESTE                 103414\n",
       "310  01/2017               SUDESTE                  24076\n",
       "311  01/2017                   SUL                  97279\n",
       "\n",
       "[312 rows x 3 columns]"
      ]
     },
     "execution_count": 3,
     "metadata": {},
     "output_type": "execute_result"
    }
   ],
   "source": [
    "dfP1"
   ]
  },
  {
   "cell_type": "code",
   "execution_count": 4,
   "id": "a970b9ae-eade-45b0-8154-3191067aa816",
   "metadata": {},
   "outputs": [
    {
     "name": "stdout",
     "output_type": "stream",
     "text": [
      "<class 'pandas.core.frame.DataFrame'>\n",
      "RangeIndex: 312 entries, 0 to 311\n",
      "Data columns (total 3 columns):\n",
      " #   Column                 Non-Null Count  Dtype \n",
      "---  ------                 --------------  ----- \n",
      " 0   Mês/Ano                312 non-null    object\n",
      " 1   Região                 312 non-null    object\n",
      " 2   Produção de Biodiesel  312 non-null    int64 \n",
      "dtypes: int64(1), object(2)\n",
      "memory usage: 7.4+ KB\n"
     ]
    }
   ],
   "source": [
    "dfP1.info()"
   ]
  },
  {
   "cell_type": "code",
   "execution_count": 6,
   "id": "b037b359-a69b-43a9-b7f6-d86bc1a6d70a",
   "metadata": {},
   "outputs": [
    {
     "name": "stderr",
     "output_type": "stream",
     "text": [
      "/var/folders/ps/1zsgwz6x7wq512m3wfzp15yr0000gn/T/ipykernel_11905/836807187.py:1: UserWarning: Could not infer format, so each element will be parsed individually, falling back to `dateutil`. To ensure parsing is consistent and as-expected, please specify a format.\n",
      "  dfP1[\"Mês/Ano\"] = pd.to_datetime(dfP1[\"Mês/Ano\"])\n"
     ]
    }
   ],
   "source": [
    "dfP1[\"Mês/Ano\"] = pd.to_datetime(dfP1[\"Mês/Ano\"])"
   ]
  },
  {
   "cell_type": "code",
   "execution_count": 7,
   "id": "6b50f4d6-e775-4680-9cf4-edc5af0929aa",
   "metadata": {},
   "outputs": [
    {
     "data": {
      "text/html": [
       "<div>\n",
       "<style scoped>\n",
       "    .dataframe tbody tr th:only-of-type {\n",
       "        vertical-align: middle;\n",
       "    }\n",
       "\n",
       "    .dataframe tbody tr th {\n",
       "        vertical-align: top;\n",
       "    }\n",
       "\n",
       "    .dataframe thead th {\n",
       "        text-align: right;\n",
       "    }\n",
       "</style>\n",
       "<table border=\"1\" class=\"dataframe\">\n",
       "  <thead>\n",
       "    <tr style=\"text-align: right;\">\n",
       "      <th></th>\n",
       "      <th>Mês/Ano</th>\n",
       "      <th>Região</th>\n",
       "      <th>Produção de Biodiesel</th>\n",
       "    </tr>\n",
       "  </thead>\n",
       "  <tbody>\n",
       "    <tr>\n",
       "      <th>0</th>\n",
       "      <td>2023-06-01</td>\n",
       "      <td>NORDESTE</td>\n",
       "      <td>49975</td>\n",
       "    </tr>\n",
       "    <tr>\n",
       "      <th>1</th>\n",
       "      <td>2023-06-01</td>\n",
       "      <td>NORTE / CENTRO OESTE</td>\n",
       "      <td>300341</td>\n",
       "    </tr>\n",
       "    <tr>\n",
       "      <th>2</th>\n",
       "      <td>2023-06-01</td>\n",
       "      <td>SUDESTE</td>\n",
       "      <td>29533</td>\n",
       "    </tr>\n",
       "    <tr>\n",
       "      <th>3</th>\n",
       "      <td>2023-06-01</td>\n",
       "      <td>SUL</td>\n",
       "      <td>274958</td>\n",
       "    </tr>\n",
       "    <tr>\n",
       "      <th>4</th>\n",
       "      <td>2023-05-01</td>\n",
       "      <td>NORDESTE</td>\n",
       "      <td>51346</td>\n",
       "    </tr>\n",
       "    <tr>\n",
       "      <th>...</th>\n",
       "      <td>...</td>\n",
       "      <td>...</td>\n",
       "      <td>...</td>\n",
       "    </tr>\n",
       "    <tr>\n",
       "      <th>307</th>\n",
       "      <td>2017-02-01</td>\n",
       "      <td>SUL</td>\n",
       "      <td>102263</td>\n",
       "    </tr>\n",
       "    <tr>\n",
       "      <th>308</th>\n",
       "      <td>2017-01-01</td>\n",
       "      <td>NORDESTE</td>\n",
       "      <td>20107</td>\n",
       "    </tr>\n",
       "    <tr>\n",
       "      <th>309</th>\n",
       "      <td>2017-01-01</td>\n",
       "      <td>NORTE / CENTRO OESTE</td>\n",
       "      <td>103414</td>\n",
       "    </tr>\n",
       "    <tr>\n",
       "      <th>310</th>\n",
       "      <td>2017-01-01</td>\n",
       "      <td>SUDESTE</td>\n",
       "      <td>24076</td>\n",
       "    </tr>\n",
       "    <tr>\n",
       "      <th>311</th>\n",
       "      <td>2017-01-01</td>\n",
       "      <td>SUL</td>\n",
       "      <td>97279</td>\n",
       "    </tr>\n",
       "  </tbody>\n",
       "</table>\n",
       "<p>312 rows × 3 columns</p>\n",
       "</div>"
      ],
      "text/plain": [
       "       Mês/Ano                Região  Produção de Biodiesel\n",
       "0   2023-06-01              NORDESTE                  49975\n",
       "1   2023-06-01  NORTE / CENTRO OESTE                 300341\n",
       "2   2023-06-01               SUDESTE                  29533\n",
       "3   2023-06-01                   SUL                 274958\n",
       "4   2023-05-01              NORDESTE                  51346\n",
       "..         ...                   ...                    ...\n",
       "307 2017-02-01                   SUL                 102263\n",
       "308 2017-01-01              NORDESTE                  20107\n",
       "309 2017-01-01  NORTE / CENTRO OESTE                 103414\n",
       "310 2017-01-01               SUDESTE                  24076\n",
       "311 2017-01-01                   SUL                  97279\n",
       "\n",
       "[312 rows x 3 columns]"
      ]
     },
     "execution_count": 7,
     "metadata": {},
     "output_type": "execute_result"
    }
   ],
   "source": [
    "dfP1"
   ]
  },
  {
   "cell_type": "code",
   "execution_count": null,
   "id": "b6701ff6-16d5-4b88-946e-84f5e799fca5",
   "metadata": {},
   "outputs": [],
   "source": [
    "#Gerar plot manda por whatsApp\n",
    "#"
   ]
  }
 ],
 "metadata": {
  "kernelspec": {
   "display_name": "Python 3 (ipykernel)",
   "language": "python",
   "name": "python3"
  },
  "language_info": {
   "codemirror_mode": {
    "name": "ipython",
    "version": 3
   },
   "file_extension": ".py",
   "mimetype": "text/x-python",
   "name": "python",
   "nbconvert_exporter": "python",
   "pygments_lexer": "ipython3",
   "version": "3.11.4"
  }
 },
 "nbformat": 4,
 "nbformat_minor": 5
}
